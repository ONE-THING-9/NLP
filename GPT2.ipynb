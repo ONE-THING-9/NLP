{
  "nbformat": 4,
  "nbformat_minor": 0,
  "metadata": {
    "colab": {
      "provenance": [],
      "gpuType": "T4"
    },
    "kernelspec": {
      "name": "python3",
      "display_name": "Python 3"
    },
    "language_info": {
      "name": "python"
    },
    "accelerator": "GPU"
  },
  "cells": [
    {
      "cell_type": "code",
      "execution_count": 1,
      "metadata": {
        "id": "gKbhD0fusoIC"
      },
      "outputs": [],
      "source": [
        "# Load model directly\n",
        "from transformers import AutoTokenizer, AutoModelForCausalLM\n",
        "\n",
        "# tokenizer = AutoTokenizer.from_pretrained(\"openai-community/gpt2\")\n",
        "# model = AutoModelForCausalLM.from_pretrained(\"openai-community/gpt2\")"
      ]
    },
    {
      "cell_type": "code",
      "source": [
        "# for k,v in sd.items():\n",
        "    # print(k,v.shape)"
      ],
      "metadata": {
        "id": "SH0iIg6zuN-8"
      },
      "execution_count": 2,
      "outputs": []
    },
    {
      "cell_type": "markdown",
      "source": [
        "nn.ModuleDict is used to store a collection of PyTorch modules (layers or networks) as key-value pairs, similar to a regular Python dictionary where keys are strings and values are PyTorch modules.\n",
        "\n",
        "\n",
        "\n",
        "ChatGPT\n",
        "In Python, @dataclass is a decorator introduced in Python 3.7 as part of the dataclasses module. It provides a way to automatically generate special methods such as __init__, __repr__, __eq__, __ne__, __lt__, __le__, __gt__, and __ge__ for classes. These methods are typically needed when you want to create a class that primarily serves as a data container (like a struct in C or a plain data class in other languages).\n",
        "\n",
        "\n",
        "\n",
        "the method tensor.contiguous() is used to create a copy of a tensor with the same data but stored in a contiguous block of memory\n",
        "\n",
        "Sometimes, due to operations like slicing, transposing, or reshaping, tensors may become non-contiguous. This means their elements are no longer stored in a single, contiguous block of memory. Non-contiguous tensors may have their elements scattered across memory, requiring extra bookkeeping to access elements in the correct order."
      ],
      "metadata": {
        "id": "Kg3aUaNvzuAI"
      }
    },
    {
      "cell_type": "code",
      "source": [
        "import torch\n",
        "from dataclasses import dataclass\n",
        "import torch.nn as nn\n",
        "from torch.nn import functional as F\n",
        "import math\n",
        "#####\n",
        "class CausalAttention(nn.Module):\n",
        "  def __init__(self, config):\n",
        "    super().__init__()\n",
        "    assert config.n_embd % config.n_head == 0\n",
        "    # key, query, value projections for all heads, but in a batch\n",
        "    self.c_attn = nn.Linear(config.n_embd, 3 * config.n_embd)\n",
        "    # output projection\n",
        "    self.c_proj = nn.Linear(config.n_embd, config.n_embd)\n",
        "    self.c_proj.NANOGPT_SCALE_INIT=1\n",
        "    #regularization\n",
        "    self.n_head = config.n_head\n",
        "    self.n_embd = config.n_embd\n",
        "    # causal mask to ensure that attention is only applied to the left in the input sequence\n",
        "    self.register_buffer(\"bias\", torch.tril(torch.ones(config.block_size, config.block_size)).view(1, 1, config.block_size, config.block_size))\n",
        "    #tensor([[[[1., 0., 0., 0.],\n",
        "             # [1., 1., 0., 0.],\n",
        "             # [1., 1., 1., 0.],\n",
        "             # [1., 1., 1., 1.]]]])\n",
        "    #self.register_buffer(name, tensor) is a method used to register a tensor as a buffer non trainable parameter of a nn.Module subclass\n",
        "  def forward(self, x):\n",
        "    B, T, C = x.size()  #batch size, seq len , token embedding size\n",
        "    # calculate query, key, values for all heads in batch and move head forward to be the batch dim\n",
        "    qkv = self.c_attn(x)\n",
        "    q,k,v = qkv.split(self.n_embd,dim=2)\n",
        "    q = q.view(B,T,self.n_head,C//self.n_head).transpose(1,2) # B,nh, T,hs\n",
        "    k = k.view(B,T,self.n_head,C//self.n_head).transpose(1,2) # B,nh, T,C/nh\n",
        "    v = v.view(B,T,self.n_head,C//self.n_head).transpose(1,2) # B,nh, T,C/nh\n",
        "    # causal self-attention; Self-attend: (B, nh, T, hs) x (B, nh, hs, T) -> (B, nh, T, T)\n",
        "    att = (q @ k.transpose(-2,-1)) * (1.0 / math.sqrt(k.size(-1)))  # after transpose (B,nh,hs,T)\n",
        "    att = att.masked_fill(self.bias[:,:,:T,:T] == 0, float('-inf'))#fill all place of attn where self.mask ==0\n",
        "    att = F.softmax(att, dim=-1)\n",
        "    y = att @ v # (B, nh, T, T) x (B, nh, T, hs) -> (B, nh, T, hs)\n",
        "    y = y.transpose(1,2).contiguous().view(B,T,C) # re-assemble all head outputs side by side\n",
        "    y = self.c_proj(y)\n",
        "    return y\n",
        "\n",
        "class MLP(nn.Module):\n",
        "    def __init__(self, config):\n",
        "        super().__init__()\n",
        "        self.c_fc = nn.Linear(config.n_embd, 4 * config.n_embd)\n",
        "        self.gelu = nn.GELU(approximate='tanh')\n",
        "        self.c_proj = nn.Linear(4 * config.n_embd, config.n_embd)\n",
        "        self.c_proj.NANOGPT_SCALE_INIT=1\n",
        "    def forward(self, x):\n",
        "        x = self.c_fc(x)\n",
        "        x = self.gelu(x)\n",
        "        x = self.c_proj(x)\n",
        "        return x\n",
        "\n",
        "\n",
        "class Block(nn.Module):\n",
        "    def __init__(self, config):\n",
        "        super().__init__()\n",
        "        self.ln_1 = nn.LayerNorm(config.n_embd)\n",
        "        self.attn = CausalAttention(config)\n",
        "        self.ln_2 = nn.LayerNorm(config.n_embd)\n",
        "        self.mlp = MLP(config)\n",
        "\n",
        "    def forward(self, x):\n",
        "        x = x + self.attn(self.ln_1(x))\n",
        "        x = x + self.mlp(self.ln_2(x))\n",
        "        return x\n",
        "\n",
        "\n",
        "\n",
        "@dataclass\n",
        "class GPTConfig:\n",
        "    block_size: int = 1024\n",
        "    vocab_size: int = 50257\n",
        "    n_layer: int = 12\n",
        "    n_head: int = 12\n",
        "    n_embd: int = 768\n",
        "\n",
        "class GPT(nn.Module):\n",
        "    def __init__(self, config):\n",
        "        super().__init__()\n",
        "        self.config = config\n",
        "        # weight teing of embedding and last layer weight. both use same weight.\n",
        "        # we want similarity between vector of similar word and similarly we want almost same probab. for similar words\n",
        "        self.transformer = nn.ModuleDict(dict(\n",
        "            wte = nn.Embedding(config.vocab_size, config.n_embd),\n",
        "            wpe = nn.Embedding(config.block_size, config.n_embd),\n",
        "            h = nn.ModuleList([Block(config) for _ in range(config.n_layer)]),\n",
        "            ln_f = nn.LayerNorm(config.n_embd),\n",
        "        ))\n",
        "        self.lm_head = nn.Linear(config.n_embd, config.vocab_size, bias=False)\n",
        "        self.transformer.wte.weight = self.lm_head.weight\n",
        "\n",
        "        #init weight\n",
        "        #self.apply(fn) is a method used in nn.Module subclasses to apply a function fn to every submodule (layer) within that module.\n",
        "        self.apply(self._init_weights)\n",
        "\n",
        "    def _init_weights(self, module):\n",
        "        std=.02\n",
        "        if isinstance(module, nn.Linear):\n",
        "          if hasattr(module, 'NANOGPT_SCALE_INIT'):\n",
        "            std *= (2*self.config.n_layer)**-0.5\n",
        "          torch.nn.init.normal_(module.weight, mean=0.0, std=std)\n",
        "          if module.bias is not None:\n",
        "            torch.nn.init.zeros_(module.bias)\n",
        "        elif isinstance(module, nn.Embedding):\n",
        "          torch.nn.init.normal_(module.weight, mean=0.0, std=std)\n",
        "\n",
        "\n",
        "    def forward(self, idx, target=None):\n",
        "      B, T = idx.size()\n",
        "      assert T < self.config.block_size, f\"Cannot forward sequence of length {T}, block size is only {self.config.block_size}\"\n",
        "      pos = torch.arange(0, T, dtype=torch.long, device=idx.device)\n",
        "      tok_emb = self.transformer.wte(idx)\n",
        "      pos_emb = self.transformer.wpe(pos)\n",
        "      x = tok_emb + pos_emb\n",
        "      for block in self.transformer.h:\n",
        "        x = block(x)\n",
        "      x = self.transformer.ln_f(x)\n",
        "      logits = self.lm_head(x) #(B, T, vocab_size)\n",
        "      loss = None\n",
        "      if target is not None:\n",
        "        logits = logits.view(-1, logits.size(-1)) # B*T , vocab_size\n",
        "        target = target.view(-1)         # B*T\n",
        "        loss = F.cross_entropy(logits, target) #\n",
        "      return logits,loss\n",
        "\n",
        "    @classmethod\n",
        "    def from_pretrained(cls, model_type):\n",
        "        \"\"\"Loads pretrained GPT-2 model weights from huggingface\"\"\"\n",
        "        assert model_type in {'gpt2', 'gpt2-medium', 'gpt2-large', 'gpt2-xl'}\n",
        "        from transformers import GPT2LMHeadModel\n",
        "        print(\"loading weights from pretrained gpt: %s\" % model_type)\n",
        "\n",
        "        # n_layer, n_head and n_embd are determined from model_type\n",
        "        config_args = {\n",
        "            'gpt2':         dict(n_layer=12, n_head=12, n_embd=768),  # 124M params\n",
        "            'gpt2-medium':  dict(n_layer=24, n_head=16, n_embd=1024), # 350M params\n",
        "            'gpt2-large':   dict(n_layer=36, n_head=20, n_embd=1280), # 774M params\n",
        "            'gpt2-xl':      dict(n_layer=48, n_head=25, n_embd=1600), # 1558M params\n",
        "        }[model_type]\n",
        "        config_args['vocab_size'] = 50257 # always 50257 for GPT model checkpoints\n",
        "        config_args['block_size'] = 1024 # always 1024 for GPT model checkpoints\n",
        "        # create a from-scratch initialized minGPT model\n",
        "        config = GPTConfig(**config_args)\n",
        "        model = GPT(config)\n",
        "        sd = model.state_dict()\n",
        "        sd_keys = sd.keys()\n",
        "        sd_keys = [k for k in sd_keys if not k.endswith('.attn.bias')] # discard this mask / buffer, not a param\n",
        "\n",
        "        # init a huggingface/transformers model\n",
        "        model_hf = GPT2LMHeadModel.from_pretrained(model_type)\n",
        "        sd_hf = model_hf.state_dict()\n",
        "\n",
        "        # copy while ensuring all of the parameters are aligned and match in names and shapes\n",
        "        sd_keys_hf = sd_hf.keys()\n",
        "        sd_keys_hf = [k for k in sd_keys_hf if not k.endswith('.attn.masked_bias')] # ignore these, just a buffer\n",
        "        sd_keys_hf = [k for k in sd_keys_hf if not k.endswith('.attn.bias')] # same, just the mask (buffer)\n",
        "        transposed = ['attn.c_attn.weight', 'attn.c_proj.weight', 'mlp.c_fc.weight', 'mlp.c_proj.weight']\n",
        "        # basically the openai checkpoints use a \"Conv1D\" module, but we only want to use a vanilla Linear\n",
        "        # this means that we have to transpose these weights when we import them\n",
        "        assert len(sd_keys_hf) == len(sd_keys), f\"mismatched keys: {len(sd_keys_hf)} != {len(sd_keys)}\"\n",
        "        for k in sd_keys_hf:\n",
        "            if any(k.endswith(w) for w in transposed):\n",
        "                # special treatment for the Conv1D weights we need to transpose\n",
        "                assert sd_hf[k].shape[::-1] == sd[k].shape\n",
        "                with torch.no_grad():\n",
        "                    sd[k].copy_(sd_hf[k].t())\n",
        "            else:\n",
        "                # vanilla copy over the other parameters\n",
        "                assert sd_hf[k].shape == sd[k].shape\n",
        "                with torch.no_grad():\n",
        "                    sd[k].copy_(sd_hf[k])\n",
        "\n",
        "        return model"
      ],
      "metadata": {
        "id": "UBAN56TOvhg0"
      },
      "execution_count": 2,
      "outputs": []
    },
    {
      "cell_type": "code",
      "source": [
        "%%capture\n",
        "pip install tiktoken"
      ],
      "metadata": {
        "id": "VyMtHPfoobFb"
      },
      "execution_count": 4,
      "outputs": []
    },
    {
      "cell_type": "code",
      "source": [
        "device = torch.device(\"cuda\" if torch.cuda.is_available() else \"cpu\")"
      ],
      "metadata": {
        "id": "dCqt4VpSomad"
      },
      "execution_count": 3,
      "outputs": []
    },
    {
      "cell_type": "code",
      "source": [
        "num = 4\n",
        "max_length = 30\n",
        "# model = GPT.from_pretrained(\"gpt2\")\n",
        "model = GPT(GPTConfig())\n",
        "model.eval()\n",
        "model.to(device)\n",
        "print(\"ok\")"
      ],
      "metadata": {
        "colab": {
          "base_uri": "https://localhost:8080/"
        },
        "id": "yfBTesMPov3l",
        "outputId": "c7d89206-4b07-4d61-f59b-20a4540a5529"
      },
      "execution_count": 4,
      "outputs": [
        {
          "output_type": "stream",
          "name": "stdout",
          "text": [
            "ok\n"
          ]
        }
      ]
    },
    {
      "cell_type": "code",
      "source": [
        "!wget https://raw.githubusercontent.com/karpathy/char-rnn/master/data/tinyshakespeare/input.txt"
      ],
      "metadata": {
        "colab": {
          "base_uri": "https://localhost:8080/"
        },
        "id": "em6qRd4eDeq_",
        "outputId": "b7fa1dab-9f5a-4569-9693-9873a7d82ea8"
      },
      "execution_count": 5,
      "outputs": [
        {
          "output_type": "stream",
          "name": "stdout",
          "text": [
            "--2024-06-16 05:55:16--  https://raw.githubusercontent.com/karpathy/char-rnn/master/data/tinyshakespeare/input.txt\n",
            "Resolving raw.githubusercontent.com (raw.githubusercontent.com)... 185.199.111.133, 185.199.110.133, 185.199.108.133, ...\n",
            "Connecting to raw.githubusercontent.com (raw.githubusercontent.com)|185.199.111.133|:443... connected.\n",
            "HTTP request sent, awaiting response... 200 OK\n",
            "Length: 1115394 (1.1M) [text/plain]\n",
            "Saving to: ‘input.txt’\n",
            "\n",
            "input.txt           100%[===================>]   1.06M  --.-KB/s    in 0.04s   \n",
            "\n",
            "2024-06-16 05:55:16 (23.8 MB/s) - ‘input.txt’ saved [1115394/1115394]\n",
            "\n"
          ]
        }
      ]
    },
    {
      "cell_type": "code",
      "source": [
        "import tiktoken\n",
        "class DataLoaderLite:\n",
        "  def __init__(self, B, T):\n",
        "    self.B = B\n",
        "    self.T = T\n",
        "    with open('input.txt', 'r', encoding='utf-8') as f:\n",
        "        text = f.read()\n",
        "    enc = tiktoken.get_encoding(\"gpt2\")\n",
        "    tokens = enc.encode(text)\n",
        "    print(f\"unique tokens {len(set(tokens))}\")\n",
        "    self.tokens = torch.tensor(tokens)\n",
        "    print(f\"loaded {len(self.tokens)} tokens\")\n",
        "    print(f\"1 epoch  = {len(self.tokens) // (B*T)} batches\")\n",
        "\n",
        "    self.current_position = 0\n",
        "\n",
        "  def nex_batch(self):\n",
        "    B, T = self.B ,self.T\n",
        "    buf = self.tokens[self.current_position:self.current_position+B*T+1]\n",
        "\n",
        "    x = buf[:-1].view(B,T)\n",
        "    y = buf[1:].view(B,T)\n",
        "\n",
        "    self.current_position += B*T\n",
        "    if self.current_position + B*T+1 >= len(self.tokens):\n",
        "      self.current_position = 0\n",
        "    return x,y\n"
      ],
      "metadata": {
        "colab": {
          "base_uri": "https://localhost:8080/",
          "height": 393
        },
        "id": "JrzDX9k2Tl4J",
        "outputId": "6f378b03-f87d-4b49-9d3b-1517e23563ce"
      },
      "execution_count": 6,
      "outputs": [
        {
          "output_type": "error",
          "ename": "ModuleNotFoundError",
          "evalue": "No module named 'tiktoken'",
          "traceback": [
            "\u001b[0;31m---------------------------------------------------------------------------\u001b[0m",
            "\u001b[0;31mModuleNotFoundError\u001b[0m                       Traceback (most recent call last)",
            "\u001b[0;32m<ipython-input-6-44ca846ba597>\u001b[0m in \u001b[0;36m<cell line: 1>\u001b[0;34m()\u001b[0m\n\u001b[0;32m----> 1\u001b[0;31m \u001b[0;32mimport\u001b[0m \u001b[0mtiktoken\u001b[0m\u001b[0;34m\u001b[0m\u001b[0;34m\u001b[0m\u001b[0m\n\u001b[0m\u001b[1;32m      2\u001b[0m \u001b[0;32mclass\u001b[0m \u001b[0mDataLoaderLite\u001b[0m\u001b[0;34m:\u001b[0m\u001b[0;34m\u001b[0m\u001b[0;34m\u001b[0m\u001b[0m\n\u001b[1;32m      3\u001b[0m   \u001b[0;32mdef\u001b[0m \u001b[0m__init__\u001b[0m\u001b[0;34m(\u001b[0m\u001b[0mself\u001b[0m\u001b[0;34m,\u001b[0m \u001b[0mB\u001b[0m\u001b[0;34m,\u001b[0m \u001b[0mT\u001b[0m\u001b[0;34m)\u001b[0m\u001b[0;34m:\u001b[0m\u001b[0;34m\u001b[0m\u001b[0;34m\u001b[0m\u001b[0m\n\u001b[1;32m      4\u001b[0m     \u001b[0mself\u001b[0m\u001b[0;34m.\u001b[0m\u001b[0mB\u001b[0m \u001b[0;34m=\u001b[0m \u001b[0mB\u001b[0m\u001b[0;34m\u001b[0m\u001b[0;34m\u001b[0m\u001b[0m\n\u001b[1;32m      5\u001b[0m     \u001b[0mself\u001b[0m\u001b[0;34m.\u001b[0m\u001b[0mT\u001b[0m \u001b[0;34m=\u001b[0m \u001b[0mT\u001b[0m\u001b[0;34m\u001b[0m\u001b[0;34m\u001b[0m\u001b[0m\n",
            "\u001b[0;31mModuleNotFoundError\u001b[0m: No module named 'tiktoken'",
            "",
            "\u001b[0;31m---------------------------------------------------------------------------\u001b[0;32m\nNOTE: If your import is failing due to a missing package, you can\nmanually install dependencies using either !pip or !apt.\n\nTo view examples of installing some common dependencies, click the\n\"Open Examples\" button below.\n\u001b[0;31m---------------------------------------------------------------------------\u001b[0m\n"
          ],
          "errorDetails": {
            "actions": [
              {
                "action": "open_url",
                "actionText": "Open Examples",
                "url": "/notebooks/snippets/importing_libraries.ipynb"
              }
            ]
          }
        }
      ]
    },
    {
      "cell_type": "code",
      "source": [
        "torch.manual_seed(1337)\n",
        "if torch.cuda.is_available():\n",
        "  torch.cuda.manual_seed(1337)\n",
        "train_loader = DataLoaderLite(num, max_length)"
      ],
      "metadata": {
        "id": "J5h08GTjVbwL"
      },
      "execution_count": null,
      "outputs": []
    },
    {
      "cell_type": "code",
      "source": [
        "optimizer = torch.optim.AdamW(model.parameters(), lr=3e-4)\n",
        "\n",
        "import time\n",
        "for i in range(50):\n",
        "  t0 = time.time()\n",
        "  x,y = train_loader.nex_batch()\n",
        "  x = x.to(device)\n",
        "  y = y.to(device)\n",
        "  optimizer.zero_grad()\n",
        "  logits, loss = model(x,y)\n",
        "  # import code; code.interact(local=locals())\n",
        "  loss.backward()\n",
        "  optimizer.step()\n",
        "  torch.cuda.synchronize()\n",
        "  t1 = time.time()\n",
        "  print(f\"step{i} - {loss.item()} time {t1-t0}\")\n",
        "  # print(f\"step{i} - {loss.item()}\")"
      ],
      "metadata": {
        "colab": {
          "base_uri": "https://localhost:8080/"
        },
        "id": "YsDK6-m1Sbt_",
        "outputId": "22cd850a-4955-48f7-e96c-aa5be4078fd9"
      },
      "execution_count": 10,
      "outputs": [
        {
          "output_type": "stream",
          "name": "stdout",
          "text": [
            "step0 - 10.960549354553223\n",
            "step1 - 9.74317741394043\n",
            "step2 - 9.282991409301758\n",
            "step3 - 9.148523330688477\n",
            "step4 - 8.465890884399414\n",
            "step5 - 8.713939666748047\n",
            "step6 - 8.766549110412598\n",
            "step7 - 8.407317161560059\n",
            "step8 - 8.635539054870605\n",
            "step9 - 8.242499351501465\n",
            "step10 - 7.825723171234131\n",
            "step11 - 8.08593463897705\n",
            "step12 - 7.452076435089111\n",
            "step13 - 7.500515460968018\n",
            "step14 - 7.2950615882873535\n",
            "step15 - 7.422034740447998\n",
            "step16 - 7.208282947540283\n",
            "step17 - 7.422486305236816\n",
            "step18 - 7.997808456420898\n",
            "step19 - 7.450544357299805\n",
            "step20 - 7.721587657928467\n",
            "step21 - 7.4293107986450195\n",
            "step22 - 7.499777793884277\n",
            "step23 - 6.916680812835693\n",
            "step24 - 6.9305572509765625\n",
            "step25 - 6.6781463623046875\n",
            "step26 - 6.612472057342529\n",
            "step27 - 6.800876140594482\n",
            "step28 - 6.742293357849121\n",
            "step29 - 7.93330717086792\n",
            "step30 - 6.77671480178833\n",
            "step31 - 6.972308158874512\n",
            "step32 - 7.033783435821533\n",
            "step33 - 6.958427906036377\n",
            "step34 - 7.001629829406738\n",
            "step35 - 6.8131208419799805\n",
            "step36 - 8.075823783874512\n",
            "step37 - 7.444507122039795\n",
            "step38 - 7.7387261390686035\n",
            "step39 - 7.485937595367432\n",
            "step40 - 7.908848285675049\n",
            "step41 - 7.516319274902344\n",
            "step42 - 7.23956298828125\n",
            "step43 - 7.198267459869385\n",
            "step44 - 6.730360984802246\n",
            "step45 - 6.92078161239624\n",
            "step46 - 6.715529441833496\n",
            "step47 - 6.890122413635254\n",
            "step48 - 6.6872968673706055\n",
            "step49 - 6.158421516418457\n"
          ]
        }
      ]
    },
    {
      "cell_type": "code",
      "source": [
        "import tiktoken\n",
        "enc = tiktoken.get_encoding(\"gpt2\")\n",
        "tokens = enc.encode(\"hello i am langauge model\")\n",
        "tokens = torch.tensor(tokens , dtype=torch.long)\n",
        "\n",
        "tokens = tokens.unsqueeze(0).repeat(num,1)\n",
        "\n",
        "tokens.shape\n",
        "x = tokens.to(device)\n",
        "\n",
        "while(x.shape[1] < max_length):\n",
        "  with torch.no_grad():\n",
        "    logits,loss = model(x)\n",
        "    logits = logits[:,-1,:]\n",
        "    probs = F.softmax(logits, dim=-1)\n",
        "    topk_prob, topk_index = torch.topk(probs, k=50, dim=-1)\n",
        "    y = torch.multinomial(topk_prob, num_samples=1)\n",
        "    xx = torch.gather(topk_index, -1, y)\n",
        "    x = torch.cat((x,xx),dim=1)\n",
        "\n",
        "for i in range(num):\n",
        "  print(enc.decode(x[i].cpu().numpy()))\n",
        "  print(\"--------\")"
      ],
      "metadata": {
        "colab": {
          "base_uri": "https://localhost:8080/"
        },
        "id": "a4-jPX-An5kf",
        "outputId": "a76805aa-2b3f-41aa-9e76-346848d07ca5"
      },
      "execution_count": 11,
      "outputs": [
        {
          "output_type": "stream",
          "name": "stdout",
          "text": [
            "hello i am langauge model,\n",
            "\n",
            " and\n",
            ", my is-, I:\n",
            " areIA of:N would-, him:\n",
            "--------\n",
            "hello i am langauge model my,\n",
            ":\n",
            ".\n",
            "\n",
            "ius '.\n",
            "\n",
            "\n",
            ". it,,\n",
            "s fromMAR,\n",
            "--------\n",
            "hello i am langauge model: IN;'llius.\n",
            "\n",
            " I; us, know.\n",
            " a he it: I his;\n",
            "--------\n",
            "hello i am langauge model:\n",
            ".\n",
            "\n",
            ":\n",
            "\n",
            "\n",
            "\n",
            "\n",
            ",\n",
            "\n",
            " shall: and the:\n",
            "; him me\n",
            "--------\n"
          ]
        }
      ]
    },
    {
      "cell_type": "code",
      "source": [
        "# GPT.from_pretrained(\"gpt2\")\n",
        "\n"
      ],
      "metadata": {
        "id": "0WqZuC1n0xST"
      },
      "execution_count": 12,
      "outputs": []
    }
  ]
}